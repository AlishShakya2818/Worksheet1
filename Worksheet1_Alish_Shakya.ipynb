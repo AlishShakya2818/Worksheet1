{
  "nbformat": 4,
  "nbformat_minor": 0,
  "metadata": {
    "colab": {
      "provenance": []
    },
    "kernelspec": {
      "name": "python3",
      "display_name": "Python 3"
    },
    "language_info": {
      "name": "python"
    }
  },
  "cells": [
    {
      "cell_type": "code",
      "execution_count": null,
      "metadata": {
        "colab": {
          "base_uri": "https://localhost:8080/"
        },
        "id": "Qgv3QyGIWKyC",
        "outputId": "ef706297-2131-41eb-b07d-d82dbf3b835f"
      },
      "outputs": [
        {
          "output_type": "execute_result",
          "data": {
            "text/plain": [
              "array([[0., 0.],\n",
              "       [0., 0.]])"
            ]
          },
          "metadata": {},
          "execution_count": 12
        }
      ],
      "source": [
        "#Problem 1(1)\n",
        "import numpy as np\n",
        "first = np.empty((2,2))\n",
        "print(first)"
      ]
    },
    {
      "cell_type": "code",
      "source": [
        "#Problem 1(2)\n",
        "array = np.ones((4,2))\n",
        "print(array)"
      ],
      "metadata": {
        "colab": {
          "base_uri": "https://localhost:8080/"
        },
        "id": "xHRqawdxYx9D",
        "outputId": "cd970924-9d08-493a-d9f7-817c4161efbf"
      },
      "execution_count": null,
      "outputs": [
        {
          "output_type": "execute_result",
          "data": {
            "text/plain": [
              "array([[1., 1.],\n",
              "       [1., 1.],\n",
              "       [1., 1.],\n",
              "       [1., 1.]])"
            ]
          },
          "metadata": {},
          "execution_count": 8
        }
      ]
    },
    {
      "cell_type": "code",
      "source": [
        "#Problem 1(3)\n",
        "value = 8\n",
        "full = np.full((2,2), value)\n",
        "full"
      ],
      "metadata": {
        "colab": {
          "base_uri": "https://localhost:8080/"
        },
        "id": "Cc7WH404ZVBD",
        "outputId": "3b97798d-fcfd-46a6-82aa-d79a07da91a9"
      },
      "execution_count": null,
      "outputs": [
        {
          "output_type": "execute_result",
          "data": {
            "text/plain": [
              "array([[8, 8],\n",
              "       [8, 8]])"
            ]
          },
          "metadata": {},
          "execution_count": 10
        }
      ]
    },
    {
      "cell_type": "code",
      "source": [
        "#Problem 1(4)\n",
        "array = ([[1,2,3], [2,3,4]])\n",
        "zeros = np.zeros_like(array)\n",
        "zeros"
      ],
      "metadata": {
        "colab": {
          "base_uri": "https://localhost:8080/"
        },
        "id": "q5DIxCj0aZCz",
        "outputId": "ec625b6c-1056-4905-c54c-de79f3b6af75"
      },
      "execution_count": null,
      "outputs": [
        {
          "output_type": "execute_result",
          "data": {
            "text/plain": [
              "array([[0, 0, 0],\n",
              "       [0, 0, 0]])"
            ]
          },
          "metadata": {},
          "execution_count": 18
        }
      ]
    },
    {
      "cell_type": "code",
      "source": [
        "#Problem 1(5)\n",
        "array = ([[2,4,5], [1,3,5]])\n",
        "ones = np.ones_like(array)\n",
        "ones"
      ],
      "metadata": {
        "colab": {
          "base_uri": "https://localhost:8080/"
        },
        "id": "v3i-vNp9b4D5",
        "outputId": "79881028-a07b-4d8f-c231-8568a7aaf838"
      },
      "execution_count": null,
      "outputs": [
        {
          "output_type": "execute_result",
          "data": {
            "text/plain": [
              "array([[1, 1, 1],\n",
              "       [1, 1, 1]])"
            ]
          },
          "metadata": {},
          "execution_count": 20
        }
      ]
    },
    {
      "cell_type": "code",
      "source": [
        "#Problem 1(6)\n",
        "new_list = [1,2,3,4]\n",
        "np_array = np.array(new_list)\n",
        "print('Converted numpy array is', np_array)"
      ],
      "metadata": {
        "colab": {
          "base_uri": "https://localhost:8080/"
        },
        "id": "setbWEiacLSF",
        "outputId": "ec255e59-8ff0-4bc1-dc38-98a0a36fa737"
      },
      "execution_count": null,
      "outputs": [
        {
          "output_type": "stream",
          "name": "stdout",
          "text": [
            "Converted numpy array is [1 2 3 4]\n"
          ]
        }
      ]
    },
    {
      "cell_type": "code",
      "source": [
        "#Problem 2(1)\n",
        "array = np.arange(10,50).reshape(10,4)\n",
        "array\n"
      ],
      "metadata": {
        "colab": {
          "base_uri": "https://localhost:8080/"
        },
        "id": "A_MoKbvCcked",
        "outputId": "d614f1bc-566e-41f7-f566-0b59ee6382f0"
      },
      "execution_count": null,
      "outputs": [
        {
          "output_type": "execute_result",
          "data": {
            "text/plain": [
              "array([[10, 11, 12, 13],\n",
              "       [14, 15, 16, 17],\n",
              "       [18, 19, 20, 21],\n",
              "       [22, 23, 24, 25],\n",
              "       [26, 27, 28, 29],\n",
              "       [30, 31, 32, 33],\n",
              "       [34, 35, 36, 37],\n",
              "       [38, 39, 40, 41],\n",
              "       [42, 43, 44, 45],\n",
              "       [46, 47, 48, 49]])"
            ]
          },
          "metadata": {},
          "execution_count": 35
        }
      ]
    },
    {
      "cell_type": "code",
      "source": [
        "#Problem 2(2)\n",
        "array = np.arange(0,9).reshape(3,3)\n",
        "\n",
        "array"
      ],
      "metadata": {
        "colab": {
          "base_uri": "https://localhost:8080/"
        },
        "id": "Sg5DCWPddcj4",
        "outputId": "6a963546-2d52-46a8-bd39-5a60c749a79d"
      },
      "execution_count": null,
      "outputs": [
        {
          "output_type": "execute_result",
          "data": {
            "text/plain": [
              "array([[0, 1, 2],\n",
              "       [3, 4, 5],\n",
              "       [6, 7, 8]])"
            ]
          },
          "metadata": {},
          "execution_count": 36
        }
      ]
    },
    {
      "cell_type": "code",
      "source": [
        "#Problem 2(3)\n",
        "array = np.eye(3)\n",
        "array"
      ],
      "metadata": {
        "colab": {
          "base_uri": "https://localhost:8080/"
        },
        "id": "bSUApAFLdob6",
        "outputId": "1b919eac-e96f-43b0-8cf4-3e785e0f39ba"
      },
      "execution_count": null,
      "outputs": [
        {
          "output_type": "execute_result",
          "data": {
            "text/plain": [
              "array([[1., 0., 0.],\n",
              "       [0., 1., 0.],\n",
              "       [0., 0., 1.]])"
            ]
          },
          "metadata": {},
          "execution_count": 37
        }
      ]
    },
    {
      "cell_type": "code",
      "source": [
        "#Problem 2(4)\n",
        "array = np.random.random(size =(30)).reshape(10,3)\n",
        "print(array)\n",
        "\n",
        "array.mean()"
      ],
      "metadata": {
        "colab": {
          "base_uri": "https://localhost:8080/"
        },
        "id": "IZbvPz-seVX5",
        "outputId": "4194680e-97b2-47a2-f5c5-199b7adb2660"
      },
      "execution_count": null,
      "outputs": [
        {
          "output_type": "stream",
          "name": "stdout",
          "text": [
            "[[0.42396631 0.49156586 0.74664904]\n",
            " [0.62128348 0.88007502 0.93581293]\n",
            " [0.2377994  0.37147215 0.2663677 ]\n",
            " [0.76991574 0.88708265 0.23768184]\n",
            " [0.61315269 0.34167096 0.75701785]\n",
            " [0.59321261 0.39976783 0.57096205]\n",
            " [0.68943597 0.95097742 0.37224914]\n",
            " [0.57310521 0.63400707 0.1149122 ]\n",
            " [0.09257053 0.60376065 0.75887832]\n",
            " [0.6981168  0.94381432 0.82026333]]\n"
          ]
        },
        {
          "output_type": "execute_result",
          "data": {
            "text/plain": [
              "0.579918235434761"
            ]
          },
          "metadata": {},
          "execution_count": 45
        }
      ]
    },
    {
      "cell_type": "code",
      "source": [
        "#Problem 2(5)\n",
        "array = np.random.randint(1,101, size=100)\n",
        "array2 = array.reshape(10,10)\n",
        "print(array2)\n",
        "print(\"Minimum value in the array is: \",array2.min())\n",
        "print(\"Maximum value in the array is: \",array2.max())\n"
      ],
      "metadata": {
        "colab": {
          "base_uri": "https://localhost:8080/"
        },
        "id": "CA679mXjfV2w",
        "outputId": "e6345a7d-f709-4163-dd8a-ea4201785c88"
      },
      "execution_count": null,
      "outputs": [
        {
          "output_type": "stream",
          "name": "stdout",
          "text": [
            "[[77 32 91 59 96 72 75 26 92 51]\n",
            " [73 61 50 43 65 14 40  3 82 80]\n",
            " [32  1 66 76 81 87 67 70 36 28]\n",
            " [72 16 58 91 94 90 50 35 81 23]\n",
            " [55 38 94 11 13 88 38 25 87 12]\n",
            " [89 15 59 75 51 91 38 42 78 31]\n",
            " [93 26 11 75 42 23 69 46 20 95]\n",
            " [72 61 44 67 96 89 38 38 20  2]\n",
            " [85 75 35 65 89 22 51 94 50 86]\n",
            " [57 95 23 59 79 93 86 62 33 41]]\n",
            "Minimum value in the array is:  1\n",
            "Maximum value in the array is:  96\n"
          ]
        }
      ]
    },
    {
      "cell_type": "code",
      "source": [
        "#Problem 2(6)\n",
        "array = np.zeros(10)\n",
        "print(\"Before:\",array)\n",
        "array[4] = 1\n",
        "print(\"After:\",array)"
      ],
      "metadata": {
        "colab": {
          "base_uri": "https://localhost:8080/"
        },
        "id": "s7hYqHJ_gzqJ",
        "outputId": "bcb1fb8b-1ec2-4e91-da16-f896849b52be"
      },
      "execution_count": null,
      "outputs": [
        {
          "output_type": "stream",
          "name": "stdout",
          "text": [
            "Before: [0. 0. 0. 0. 0. 0. 0. 0. 0. 0.]\n",
            "After: [0. 0. 0. 0. 1. 0. 0. 0. 0. 0.]\n"
          ]
        }
      ]
    },
    {
      "cell_type": "code",
      "source": [
        "#Problem 2(7)\n",
        "arr = [1,2,0,0,4,0]\n",
        "reversed_arr = arr[::-1]\n",
        "print('Reversed array is:',reversed_arr)"
      ],
      "metadata": {
        "colab": {
          "base_uri": "https://localhost:8080/"
        },
        "id": "_uv6yZ7GiQN3",
        "outputId": "37934985-ca9c-4245-e592-ae612f517442"
      },
      "execution_count": null,
      "outputs": [
        {
          "output_type": "stream",
          "name": "stdout",
          "text": [
            "Reversed array is: [0, 4, 0, 0, 2, 1]\n"
          ]
        }
      ]
    },
    {
      "cell_type": "code",
      "source": [
        "#Problem 2(8)\n",
        "import numpy as np\n",
        "\n",
        "rows = 5\n",
        "cols = 4\n",
        "arr = np.zeros((rows, cols))\n",
        "\n",
        "arr[0, :] = 1\n",
        "arr[-1, :] = 1\n",
        "arr[:, 0] = 1\n",
        "arr[:, -1] = 1\n",
        "\n",
        "print(arr)"
      ],
      "metadata": {
        "id": "tLW-wJK5is3M",
        "colab": {
          "base_uri": "https://localhost:8080/"
        },
        "outputId": "f46a7034-e7b5-4b37-e5bc-8690deffee4a"
      },
      "execution_count": 36,
      "outputs": [
        {
          "output_type": "stream",
          "name": "stdout",
          "text": [
            "[[1. 1. 1. 1.]\n",
            " [1. 0. 0. 1.]\n",
            " [1. 0. 0. 1.]\n",
            " [1. 0. 0. 1.]\n",
            " [1. 1. 1. 1.]]\n"
          ]
        }
      ]
    },
    {
      "cell_type": "code",
      "source": [
        "#Problem 2(9)\n",
        "import numpy as np\n",
        "arr = np.zeros((8,8))\n",
        "for i in range(8):\n",
        "    for j in range(8):\n",
        "        if (i + j) % 2 == 0:\n",
        "            arr[i, j] = 0\n",
        "        else:\n",
        "            arr[i, j] = 1\n",
        "print(arr)"
      ],
      "metadata": {
        "colab": {
          "base_uri": "https://localhost:8080/"
        },
        "id": "KSYp31NYiz2H",
        "outputId": "e7a2595c-6c88-4294-ac20-bdab20d1640d"
      },
      "execution_count": 5,
      "outputs": [
        {
          "output_type": "stream",
          "name": "stdout",
          "text": [
            "[[0. 1. 0. 1. 0. 1. 0. 1.]\n",
            " [1. 0. 1. 0. 1. 0. 1. 0.]\n",
            " [0. 1. 0. 1. 0. 1. 0. 1.]\n",
            " [1. 0. 1. 0. 1. 0. 1. 0.]\n",
            " [0. 1. 0. 1. 0. 1. 0. 1.]\n",
            " [1. 0. 1. 0. 1. 0. 1. 0.]\n",
            " [0. 1. 0. 1. 0. 1. 0. 1.]\n",
            " [1. 0. 1. 0. 1. 0. 1. 0.]]\n"
          ]
        }
      ]
    },
    {
      "cell_type": "code",
      "source": [
        "#Problem 3(1)\n",
        "x = np.array([[1,2],[3,5]])\n",
        "y = np.array([[5,6],[7,8]])\n",
        "v = np.array([9,10])\n",
        "w = np.array([11,12]);\n",
        "\n",
        "print(\"Addition of x and y is:\\n\", np.add(x,y))\n",
        "\n",
        "print(\"Addition of v and w is:\\n\", np.add(v,w))"
      ],
      "metadata": {
        "colab": {
          "base_uri": "https://localhost:8080/"
        },
        "id": "ncIFDaM-ck2E",
        "outputId": "95bc9376-5ca8-4d44-fd09-109eba016c8a"
      },
      "execution_count": 28,
      "outputs": [
        {
          "output_type": "stream",
          "name": "stdout",
          "text": [
            "Addition of x and y is:\n",
            " [[ 6  8]\n",
            " [10 13]]\n",
            "Addition of v and w is:\n",
            " [20 22]\n"
          ]
        }
      ]
    },
    {
      "cell_type": "code",
      "source": [
        "#Problem 3(2)\n",
        "print(\"Subtraction of x and y:\\n\", np.subtract(x,y))\n",
        "\n",
        "print(\"Subtraction of v and w:\\n\", np.subtract(v,w))"
      ],
      "metadata": {
        "colab": {
          "base_uri": "https://localhost:8080/"
        },
        "id": "BQozUndMdwq0",
        "outputId": "930839f1-6c41-45c3-da7d-639e05631a5b"
      },
      "execution_count": 30,
      "outputs": [
        {
          "output_type": "stream",
          "name": "stdout",
          "text": [
            "Subtraction of x and y:\n",
            " [[-4 -4]\n",
            " [-4 -3]]\n",
            "Subtraction of v and w:\n",
            " [-2 -2]\n"
          ]
        }
      ]
    },
    {
      "cell_type": "code",
      "source": [
        "#Problem 3(3)\n",
        "print(\"Product of x with 8 is:\\n\", np.multiply(x,8))\n",
        "print(\"Product of y with 2 is:\\n\", np.multiply(y,2))\n",
        "print(\"Product of v with 4 is:\", np.multiply(v,4))\n",
        "print(\"Produc of w with 3 is:\", np.multiply(w,3))"
      ],
      "metadata": {
        "colab": {
          "base_uri": "https://localhost:8080/"
        },
        "id": "VBK21LNOeDXY",
        "outputId": "38f73f58-cd0d-4164-ab31-14d0d3212cb2"
      },
      "execution_count": 34,
      "outputs": [
        {
          "output_type": "stream",
          "name": "stdout",
          "text": [
            "Product of x with 8 is:\n",
            " [[ 8 16]\n",
            " [24 40]]\n",
            "Product of y with 2 is:\n",
            " [[10 12]\n",
            " [14 16]]\n",
            "Product of v with 4 is: [36 40]\n",
            "Produc of w with 3 is: [33 36]\n"
          ]
        }
      ]
    },
    {
      "cell_type": "code",
      "source": [
        "#Problem 3(4)\n",
        "print(\"Square of elements in x is:\\n\", np.square(x))\n",
        "print(\"Square of elements in y is:\\n\", np.square(y))\n",
        "print(\"Square of elements in v is:\\n\", np.square(v))\n",
        "print(\"Square of elements in w is:\\n\", np.square(w))"
      ],
      "metadata": {
        "colab": {
          "base_uri": "https://localhost:8080/"
        },
        "id": "awyT6QSLfcev",
        "outputId": "9a166304-d61d-42a5-95d5-bb1ea296abd9"
      },
      "execution_count": 35,
      "outputs": [
        {
          "output_type": "stream",
          "name": "stdout",
          "text": [
            "Square of elements in x is:\n",
            " [[ 1  4]\n",
            " [ 9 25]]\n",
            "Square of elements in y is:\n",
            " [[25 36]\n",
            " [49 64]]\n",
            "Square of elements in v is:\n",
            " [ 81 100]\n",
            "Square of elements in w is:\n",
            " [121 144]\n"
          ]
        }
      ]
    },
    {
      "cell_type": "code",
      "source": [
        "#Problem 3(5)\n",
        "dot_v_w = np.dot(v, w)\n",
        "print(\"Dot product of v and w:\", dot_v_w)\n",
        "\n",
        "dot_x_v = np.dot(x, v)\n",
        "print(\"Dot product of x and v:\\n\", dot_x_v)\n",
        "\n",
        "dot_x_y = np.dot(x, y)\n",
        "print(\"Dot product of x and y:\\n\", dot_x_y)\n"
      ],
      "metadata": {
        "colab": {
          "base_uri": "https://localhost:8080/"
        },
        "id": "frQ4DaNjgMH9",
        "outputId": "cff9d42e-27b8-48a0-cdc9-803f51135e0d"
      },
      "execution_count": 21,
      "outputs": [
        {
          "output_type": "stream",
          "name": "stdout",
          "text": [
            "Dot product of v and w: 219\n",
            "Dot product of x and v:\n",
            " [29 77]\n",
            "Dot product of x and y:\n",
            " [[19 22]\n",
            " [50 58]]\n"
          ]
        }
      ]
    },
    {
      "cell_type": "code",
      "source": [
        "#Problem 3(6)\n",
        "concat1 = np.concatenate((x, y), axis=0)\n",
        "print(\"Concatenation of x and y along rows:\\n\", concat1)\n",
        "\n",
        "concat2 = np.vstack((v, w)).T\n",
        "print(\"Concatenation of v and w along columns:\\n\", concat2)"
      ],
      "metadata": {
        "colab": {
          "base_uri": "https://localhost:8080/"
        },
        "id": "J9TtOrifiwik",
        "outputId": "15cc6ec4-fa0b-4cd7-b77b-1f6d35ef6e4d"
      },
      "execution_count": 23,
      "outputs": [
        {
          "output_type": "stream",
          "name": "stdout",
          "text": [
            "Concatenation of x and y along rows:\n",
            " [[1 2]\n",
            " [3 5]\n",
            " [5 6]\n",
            " [7 8]]\n",
            "Concatenation of v and w along columns:\n",
            " [[ 9 11]\n",
            " [10 12]]\n"
          ]
        }
      ]
    },
    {
      "cell_type": "code",
      "source": [
        "#Problem 3(7)\n",
        "try:\n",
        "    concat_x_v = np.concatenate((x, v), axis=0)\n",
        "    print(\"Concatenation of x and v:\\n\", concat_x_v)\n",
        "except ValueError as e:\n",
        "    print(\"Error:\", e)\n"
      ],
      "metadata": {
        "colab": {
          "base_uri": "https://localhost:8080/"
        },
        "id": "Cc6eumJpjSrQ",
        "outputId": "ab7ab372-ada3-4c40-c033-2c5871370611"
      },
      "execution_count": 26,
      "outputs": [
        {
          "output_type": "stream",
          "name": "stdout",
          "text": [
            "Error: all the input arrays must have same number of dimensions, but the array at index 0 has 2 dimension(s) and the array at index 1 has 1 dimension(s)\n"
          ]
        }
      ]
    },
    {
      "cell_type": "code",
      "source": [
        "#Problem 4(1)\n",
        "import numpy as np\n",
        "\n",
        "A = np.array([[3, 4], [7, 8]])\n",
        "A_inv = np.linalg.inv(A)\n",
        "\n",
        "result = np.dot(A, A_inv)\n",
        "\n",
        "print(\"A * A^-1\", result)\n",
        "\n",
        "I = np.eye(2)\n",
        "print(\"Identity matrix I:\\n\", I)\n"
      ],
      "metadata": {
        "colab": {
          "base_uri": "https://localhost:8080/"
        },
        "id": "e2w15m8zjyam",
        "outputId": "f453eb56-e779-4fff-99dd-6361366a624d"
      },
      "execution_count": 37,
      "outputs": [
        {
          "output_type": "stream",
          "name": "stdout",
          "text": [
            "A * A_inv:\n",
            " [[1.00000000e+00 0.00000000e+00]\n",
            " [1.77635684e-15 1.00000000e+00]]\n",
            "Identity matrix I:\n",
            " [[1. 0.]\n",
            " [0. 1.]]\n"
          ]
        }
      ]
    },
    {
      "cell_type": "code",
      "source": [
        "#Problem 4(2)\n",
        "A = np.array([[3, 4], [7, 8]])\n",
        "B = np.array([[5, 3], [2, 1]])\n",
        "\n",
        "AB = np.dot(A, B)\n",
        "BA = np.dot(B, A)\n",
        "print(\"AB:\\n\", AB)\n",
        "print(\"BA:\\n\", BA)\n",
        "\n",
        "are_equal = np.array_equal(AB, BA)\n",
        "print(\"Is AB equal to BA?\", are_equal)"
      ],
      "metadata": {
        "colab": {
          "base_uri": "https://localhost:8080/"
        },
        "id": "dbXKo27yobvt",
        "outputId": "683efe2a-fc61-4308-a49d-86f539ec470d"
      },
      "execution_count": 39,
      "outputs": [
        {
          "output_type": "stream",
          "name": "stdout",
          "text": [
            "AB:\n",
            " [[23 13]\n",
            " [51 29]]\n",
            "BA:\n",
            " [[36 44]\n",
            " [13 16]]\n",
            "Is AB equal to BA? False\n"
          ]
        }
      ]
    },
    {
      "cell_type": "code",
      "source": [
        "#Problem 4(3)\n",
        "ab_transpose = np.transpose(AB)\n",
        "bt_at_transpose = np.dot(np.transpose(B), np.transpose(A))\n",
        "\n",
        "print(\"(AB)^T:\\n\", ab_transpose)\n",
        "print(\"B^T * A^T:\\n\", bt_at_transpose)\n",
        "\n",
        "is_transpose_property_holding = np.array_equal(ab_transpose, bt_at_transpose)\n",
        "print(\"Does (AB)^T equal B^T * A^T?\", is_transpose_property_holding)\n"
      ],
      "metadata": {
        "colab": {
          "base_uri": "https://localhost:8080/"
        },
        "id": "TOIPJxmopsll",
        "outputId": "5b194fd2-7bdf-4bbc-ff35-4bb7cc780c80"
      },
      "execution_count": 42,
      "outputs": [
        {
          "output_type": "stream",
          "name": "stdout",
          "text": [
            "(AB)^T:\n",
            " [[23 51]\n",
            " [13 29]]\n",
            "B^T * A^T:\n",
            " [[23 51]\n",
            " [13 29]]\n",
            "Does (AB)^T equal B^T * A^T? True\n"
          ]
        }
      ]
    },
    {
      "cell_type": "code",
      "source": [
        "#Problem 4(4)\n",
        "\n",
        "import numpy as np\n",
        "A = np.array([[2, -3, 1],\n",
        "              [1, -1, 2],\n",
        "              [3, 1, -1]])\n",
        "\n",
        "B = np.array([[-1],\n",
        "              [-3],\n",
        "              [9]])\n",
        "\n",
        "A_inv = np.linalg.inv(A)\n",
        "X = np.dot(A_inv, B)\n",
        "\n",
        "print(\"The values of [x, y, z] is:\\n\", X)"
      ],
      "metadata": {
        "colab": {
          "base_uri": "https://localhost:8080/"
        },
        "id": "S_qyN2SNqUJl",
        "outputId": "c074d5e3-804f-4219-f8dd-306b2d93158f"
      },
      "execution_count": 44,
      "outputs": [
        {
          "output_type": "stream",
          "name": "stdout",
          "text": [
            "The values of [x, y, z] is:\n",
            " [[ 2.]\n",
            " [ 1.]\n",
            " [-2.]]\n"
          ]
        }
      ]
    }
  ]
}